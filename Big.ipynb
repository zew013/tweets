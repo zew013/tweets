{
 "cells": [
  {
   "cell_type": "code",
   "execution_count": 1,
   "id": "b43786fd",
   "metadata": {},
   "outputs": [],
   "source": [
    "import matplotlib.pyplot as plt\n",
    "import numpy as np\n",
    "import os\n",
    "import pandas as pd\n",
    "#import seaborn as sns\n",
    "#from scipy.stats import ks_2samp\n",
    "#import glob\n",
    "#import time\n",
    "import requests\n",
    "import bs4\n",
    "#import lxml\n",
    "import altair as alt\n",
    "import folium\n",
    "import geopandas as gdp\n",
    "import math\n",
    "import json\n",
    "import langdetect as land\n",
    "#from mpl_toolkits import mplot3d\n",
    "import plotly\n",
    "import plotly.express as px\n",
    "import plotly.graph_objects as go\n",
    "from ipywidgets import interact\n",
    "import seaborn as sns\n",
    "from sklearn.linear_model import LinearRegression\n",
    "import warnings"
   ]
  },
  {
   "cell_type": "markdown",
   "id": "dd64ee30",
   "metadata": {},
   "source": [
    "Import data"
   ]
  },
  {
   "cell_type": "code",
   "execution_count": 2,
   "id": "2364eed9",
   "metadata": {},
   "outputs": [
    {
     "ename": "KeyboardInterrupt",
     "evalue": "",
     "output_type": "error",
     "traceback": [
      "\u001b[0;31m---------------------------------------------------------------------------\u001b[0m",
      "\u001b[0;31mKeyboardInterrupt\u001b[0m                         Traceback (most recent call last)",
      "Input \u001b[0;32mIn [2]\u001b[0m, in \u001b[0;36m<cell line: 2>\u001b[0;34m()\u001b[0m\n\u001b[1;32m      1\u001b[0m tweet \u001b[38;5;241m=\u001b[39m pd\u001b[38;5;241m.\u001b[39mread_excel(os\u001b[38;5;241m.\u001b[39mpath\u001b[38;5;241m.\u001b[39mjoin(\u001b[38;5;124m'\u001b[39m\u001b[38;5;124mTwitter+data+in+sheets.xlsx\u001b[39m\u001b[38;5;124m'\u001b[39m), \u001b[38;5;124m'\u001b[39m\u001b[38;5;124mTweet\u001b[39m\u001b[38;5;124m'\u001b[39m)\n\u001b[0;32m----> 2\u001b[0m loca \u001b[38;5;241m=\u001b[39m \u001b[43mpd\u001b[49m\u001b[38;5;241;43m.\u001b[39;49m\u001b[43mread_excel\u001b[49m\u001b[43m(\u001b[49m\u001b[43mos\u001b[49m\u001b[38;5;241;43m.\u001b[39;49m\u001b[43mpath\u001b[49m\u001b[38;5;241;43m.\u001b[39;49m\u001b[43mjoin\u001b[49m\u001b[43m(\u001b[49m\u001b[38;5;124;43m'\u001b[39;49m\u001b[38;5;124;43mTwitter+data+in+sheets.xlsx\u001b[39;49m\u001b[38;5;124;43m'\u001b[39;49m\u001b[43m)\u001b[49m\u001b[43m,\u001b[49m\u001b[43m \u001b[49m\u001b[38;5;124;43m'\u001b[39;49m\u001b[38;5;124;43mLocation\u001b[39;49m\u001b[38;5;124;43m'\u001b[39;49m\u001b[43m)\u001b[49m\n\u001b[1;32m      3\u001b[0m user \u001b[38;5;241m=\u001b[39m pd\u001b[38;5;241m.\u001b[39mread_excel(os\u001b[38;5;241m.\u001b[39mpath\u001b[38;5;241m.\u001b[39mjoin(\u001b[38;5;124m'\u001b[39m\u001b[38;5;124mTwitter+data+in+sheets.xlsx\u001b[39m\u001b[38;5;124m'\u001b[39m), \u001b[38;5;124m'\u001b[39m\u001b[38;5;124mUser\u001b[39m\u001b[38;5;124m'\u001b[39m)\n",
      "File \u001b[0;32m~/opt/anaconda3/envs/dsc80/lib/python3.8/site-packages/pandas/util/_decorators.py:311\u001b[0m, in \u001b[0;36mdeprecate_nonkeyword_arguments.<locals>.decorate.<locals>.wrapper\u001b[0;34m(*args, **kwargs)\u001b[0m\n\u001b[1;32m    305\u001b[0m \u001b[38;5;28;01mif\u001b[39;00m \u001b[38;5;28mlen\u001b[39m(args) \u001b[38;5;241m>\u001b[39m num_allow_args:\n\u001b[1;32m    306\u001b[0m     warnings\u001b[38;5;241m.\u001b[39mwarn(\n\u001b[1;32m    307\u001b[0m         msg\u001b[38;5;241m.\u001b[39mformat(arguments\u001b[38;5;241m=\u001b[39marguments),\n\u001b[1;32m    308\u001b[0m         \u001b[38;5;167;01mFutureWarning\u001b[39;00m,\n\u001b[1;32m    309\u001b[0m         stacklevel\u001b[38;5;241m=\u001b[39mstacklevel,\n\u001b[1;32m    310\u001b[0m     )\n\u001b[0;32m--> 311\u001b[0m \u001b[38;5;28;01mreturn\u001b[39;00m \u001b[43mfunc\u001b[49m\u001b[43m(\u001b[49m\u001b[38;5;241;43m*\u001b[39;49m\u001b[43margs\u001b[49m\u001b[43m,\u001b[49m\u001b[43m \u001b[49m\u001b[38;5;241;43m*\u001b[39;49m\u001b[38;5;241;43m*\u001b[39;49m\u001b[43mkwargs\u001b[49m\u001b[43m)\u001b[49m\n",
      "File \u001b[0;32m~/opt/anaconda3/envs/dsc80/lib/python3.8/site-packages/pandas/io/excel/_base.py:457\u001b[0m, in \u001b[0;36mread_excel\u001b[0;34m(io, sheet_name, header, names, index_col, usecols, squeeze, dtype, engine, converters, true_values, false_values, skiprows, nrows, na_values, keep_default_na, na_filter, verbose, parse_dates, date_parser, thousands, decimal, comment, skipfooter, convert_float, mangle_dupe_cols, storage_options)\u001b[0m\n\u001b[1;32m    455\u001b[0m \u001b[38;5;28;01mif\u001b[39;00m \u001b[38;5;129;01mnot\u001b[39;00m \u001b[38;5;28misinstance\u001b[39m(io, ExcelFile):\n\u001b[1;32m    456\u001b[0m     should_close \u001b[38;5;241m=\u001b[39m \u001b[38;5;28;01mTrue\u001b[39;00m\n\u001b[0;32m--> 457\u001b[0m     io \u001b[38;5;241m=\u001b[39m \u001b[43mExcelFile\u001b[49m\u001b[43m(\u001b[49m\u001b[43mio\u001b[49m\u001b[43m,\u001b[49m\u001b[43m \u001b[49m\u001b[43mstorage_options\u001b[49m\u001b[38;5;241;43m=\u001b[39;49m\u001b[43mstorage_options\u001b[49m\u001b[43m,\u001b[49m\u001b[43m \u001b[49m\u001b[43mengine\u001b[49m\u001b[38;5;241;43m=\u001b[39;49m\u001b[43mengine\u001b[49m\u001b[43m)\u001b[49m\n\u001b[1;32m    458\u001b[0m \u001b[38;5;28;01melif\u001b[39;00m engine \u001b[38;5;129;01mand\u001b[39;00m engine \u001b[38;5;241m!=\u001b[39m io\u001b[38;5;241m.\u001b[39mengine:\n\u001b[1;32m    459\u001b[0m     \u001b[38;5;28;01mraise\u001b[39;00m \u001b[38;5;167;01mValueError\u001b[39;00m(\n\u001b[1;32m    460\u001b[0m         \u001b[38;5;124m\"\u001b[39m\u001b[38;5;124mEngine should not be specified when passing \u001b[39m\u001b[38;5;124m\"\u001b[39m\n\u001b[1;32m    461\u001b[0m         \u001b[38;5;124m\"\u001b[39m\u001b[38;5;124man ExcelFile - ExcelFile already has the engine set\u001b[39m\u001b[38;5;124m\"\u001b[39m\n\u001b[1;32m    462\u001b[0m     )\n",
      "File \u001b[0;32m~/opt/anaconda3/envs/dsc80/lib/python3.8/site-packages/pandas/io/excel/_base.py:1419\u001b[0m, in \u001b[0;36mExcelFile.__init__\u001b[0;34m(self, path_or_buffer, engine, storage_options)\u001b[0m\n\u001b[1;32m   1416\u001b[0m \u001b[38;5;28mself\u001b[39m\u001b[38;5;241m.\u001b[39mengine \u001b[38;5;241m=\u001b[39m engine\n\u001b[1;32m   1417\u001b[0m \u001b[38;5;28mself\u001b[39m\u001b[38;5;241m.\u001b[39mstorage_options \u001b[38;5;241m=\u001b[39m storage_options\n\u001b[0;32m-> 1419\u001b[0m \u001b[38;5;28mself\u001b[39m\u001b[38;5;241m.\u001b[39m_reader \u001b[38;5;241m=\u001b[39m \u001b[38;5;28;43mself\u001b[39;49m\u001b[38;5;241;43m.\u001b[39;49m\u001b[43m_engines\u001b[49m\u001b[43m[\u001b[49m\u001b[43mengine\u001b[49m\u001b[43m]\u001b[49m\u001b[43m(\u001b[49m\u001b[38;5;28;43mself\u001b[39;49m\u001b[38;5;241;43m.\u001b[39;49m\u001b[43m_io\u001b[49m\u001b[43m,\u001b[49m\u001b[43m \u001b[49m\u001b[43mstorage_options\u001b[49m\u001b[38;5;241;43m=\u001b[39;49m\u001b[43mstorage_options\u001b[49m\u001b[43m)\u001b[49m\n",
      "File \u001b[0;32m~/opt/anaconda3/envs/dsc80/lib/python3.8/site-packages/pandas/io/excel/_openpyxl.py:525\u001b[0m, in \u001b[0;36mOpenpyxlReader.__init__\u001b[0;34m(self, filepath_or_buffer, storage_options)\u001b[0m\n\u001b[1;32m    514\u001b[0m \u001b[38;5;124;03m\"\"\"\u001b[39;00m\n\u001b[1;32m    515\u001b[0m \u001b[38;5;124;03mReader using openpyxl engine.\u001b[39;00m\n\u001b[1;32m    516\u001b[0m \n\u001b[0;32m   (...)\u001b[0m\n\u001b[1;32m    522\u001b[0m \u001b[38;5;124;03m    passed to fsspec for appropriate URLs (see ``_get_filepath_or_buffer``)\u001b[39;00m\n\u001b[1;32m    523\u001b[0m \u001b[38;5;124;03m\"\"\"\u001b[39;00m\n\u001b[1;32m    524\u001b[0m import_optional_dependency(\u001b[38;5;124m\"\u001b[39m\u001b[38;5;124mopenpyxl\u001b[39m\u001b[38;5;124m\"\u001b[39m)\n\u001b[0;32m--> 525\u001b[0m \u001b[38;5;28;43msuper\u001b[39;49m\u001b[43m(\u001b[49m\u001b[43m)\u001b[49m\u001b[38;5;241;43m.\u001b[39;49m\u001b[38;5;21;43m__init__\u001b[39;49m\u001b[43m(\u001b[49m\u001b[43mfilepath_or_buffer\u001b[49m\u001b[43m,\u001b[49m\u001b[43m \u001b[49m\u001b[43mstorage_options\u001b[49m\u001b[38;5;241;43m=\u001b[39;49m\u001b[43mstorage_options\u001b[49m\u001b[43m)\u001b[49m\n",
      "File \u001b[0;32m~/opt/anaconda3/envs/dsc80/lib/python3.8/site-packages/pandas/io/excel/_base.py:518\u001b[0m, in \u001b[0;36mBaseExcelReader.__init__\u001b[0;34m(self, filepath_or_buffer, storage_options)\u001b[0m\n\u001b[1;32m    516\u001b[0m \u001b[38;5;28mself\u001b[39m\u001b[38;5;241m.\u001b[39mhandles\u001b[38;5;241m.\u001b[39mhandle\u001b[38;5;241m.\u001b[39mseek(\u001b[38;5;241m0\u001b[39m)\n\u001b[1;32m    517\u001b[0m \u001b[38;5;28;01mtry\u001b[39;00m:\n\u001b[0;32m--> 518\u001b[0m     \u001b[38;5;28mself\u001b[39m\u001b[38;5;241m.\u001b[39mbook \u001b[38;5;241m=\u001b[39m \u001b[38;5;28;43mself\u001b[39;49m\u001b[38;5;241;43m.\u001b[39;49m\u001b[43mload_workbook\u001b[49m\u001b[43m(\u001b[49m\u001b[38;5;28;43mself\u001b[39;49m\u001b[38;5;241;43m.\u001b[39;49m\u001b[43mhandles\u001b[49m\u001b[38;5;241;43m.\u001b[39;49m\u001b[43mhandle\u001b[49m\u001b[43m)\u001b[49m\n\u001b[1;32m    519\u001b[0m \u001b[38;5;28;01mexcept\u001b[39;00m \u001b[38;5;167;01mException\u001b[39;00m:\n\u001b[1;32m    520\u001b[0m     \u001b[38;5;28mself\u001b[39m\u001b[38;5;241m.\u001b[39mclose()\n",
      "File \u001b[0;32m~/opt/anaconda3/envs/dsc80/lib/python3.8/site-packages/pandas/io/excel/_openpyxl.py:536\u001b[0m, in \u001b[0;36mOpenpyxlReader.load_workbook\u001b[0;34m(self, filepath_or_buffer)\u001b[0m\n\u001b[1;32m    533\u001b[0m \u001b[38;5;28;01mdef\u001b[39;00m \u001b[38;5;21mload_workbook\u001b[39m(\u001b[38;5;28mself\u001b[39m, filepath_or_buffer: FilePath \u001b[38;5;241m|\u001b[39m ReadBuffer[\u001b[38;5;28mbytes\u001b[39m]):\n\u001b[1;32m    534\u001b[0m     \u001b[38;5;28;01mfrom\u001b[39;00m \u001b[38;5;21;01mopenpyxl\u001b[39;00m \u001b[38;5;28;01mimport\u001b[39;00m load_workbook\n\u001b[0;32m--> 536\u001b[0m     \u001b[38;5;28;01mreturn\u001b[39;00m \u001b[43mload_workbook\u001b[49m\u001b[43m(\u001b[49m\n\u001b[1;32m    537\u001b[0m \u001b[43m        \u001b[49m\u001b[43mfilepath_or_buffer\u001b[49m\u001b[43m,\u001b[49m\u001b[43m \u001b[49m\u001b[43mread_only\u001b[49m\u001b[38;5;241;43m=\u001b[39;49m\u001b[38;5;28;43;01mTrue\u001b[39;49;00m\u001b[43m,\u001b[49m\u001b[43m \u001b[49m\u001b[43mdata_only\u001b[49m\u001b[38;5;241;43m=\u001b[39;49m\u001b[38;5;28;43;01mTrue\u001b[39;49;00m\u001b[43m,\u001b[49m\u001b[43m \u001b[49m\u001b[43mkeep_links\u001b[49m\u001b[38;5;241;43m=\u001b[39;49m\u001b[38;5;28;43;01mFalse\u001b[39;49;00m\n\u001b[1;32m    538\u001b[0m \u001b[43m    \u001b[49m\u001b[43m)\u001b[49m\n",
      "File \u001b[0;32m~/opt/anaconda3/envs/dsc80/lib/python3.8/site-packages/openpyxl/reader/excel.py:317\u001b[0m, in \u001b[0;36mload_workbook\u001b[0;34m(filename, read_only, keep_vba, data_only, keep_links)\u001b[0m\n\u001b[1;32m    290\u001b[0m \u001b[38;5;124;03m\"\"\"Open the given filename and return the workbook\u001b[39;00m\n\u001b[1;32m    291\u001b[0m \n\u001b[1;32m    292\u001b[0m \u001b[38;5;124;03m:param filename: the path to open or a file-like object\u001b[39;00m\n\u001b[0;32m   (...)\u001b[0m\n\u001b[1;32m    313\u001b[0m \n\u001b[1;32m    314\u001b[0m \u001b[38;5;124;03m\"\"\"\u001b[39;00m\n\u001b[1;32m    315\u001b[0m reader \u001b[38;5;241m=\u001b[39m ExcelReader(filename, read_only, keep_vba,\n\u001b[1;32m    316\u001b[0m                     data_only, keep_links)\n\u001b[0;32m--> 317\u001b[0m \u001b[43mreader\u001b[49m\u001b[38;5;241;43m.\u001b[39;49m\u001b[43mread\u001b[49m\u001b[43m(\u001b[49m\u001b[43m)\u001b[49m\n\u001b[1;32m    318\u001b[0m \u001b[38;5;28;01mreturn\u001b[39;00m reader\u001b[38;5;241m.\u001b[39mwb\n",
      "File \u001b[0;32m~/opt/anaconda3/envs/dsc80/lib/python3.8/site-packages/openpyxl/reader/excel.py:277\u001b[0m, in \u001b[0;36mExcelReader.read\u001b[0;34m(self)\u001b[0m\n\u001b[1;32m    275\u001b[0m \u001b[38;5;28;01mdef\u001b[39;00m \u001b[38;5;21mread\u001b[39m(\u001b[38;5;28mself\u001b[39m):\n\u001b[1;32m    276\u001b[0m     \u001b[38;5;28mself\u001b[39m\u001b[38;5;241m.\u001b[39mread_manifest()\n\u001b[0;32m--> 277\u001b[0m     \u001b[38;5;28;43mself\u001b[39;49m\u001b[38;5;241;43m.\u001b[39;49m\u001b[43mread_strings\u001b[49m\u001b[43m(\u001b[49m\u001b[43m)\u001b[49m\n\u001b[1;32m    278\u001b[0m     \u001b[38;5;28mself\u001b[39m\u001b[38;5;241m.\u001b[39mread_workbook()\n\u001b[1;32m    279\u001b[0m     \u001b[38;5;28mself\u001b[39m\u001b[38;5;241m.\u001b[39mread_properties()\n",
      "File \u001b[0;32m~/opt/anaconda3/envs/dsc80/lib/python3.8/site-packages/openpyxl/reader/excel.py:144\u001b[0m, in \u001b[0;36mExcelReader.read_strings\u001b[0;34m(self)\u001b[0m\n\u001b[1;32m    142\u001b[0m strings_path \u001b[38;5;241m=\u001b[39m ct\u001b[38;5;241m.\u001b[39mPartName[\u001b[38;5;241m1\u001b[39m:]\n\u001b[1;32m    143\u001b[0m \u001b[38;5;28;01mwith\u001b[39;00m \u001b[38;5;28mself\u001b[39m\u001b[38;5;241m.\u001b[39marchive\u001b[38;5;241m.\u001b[39mopen(strings_path,) \u001b[38;5;28;01mas\u001b[39;00m src:\n\u001b[0;32m--> 144\u001b[0m     \u001b[38;5;28mself\u001b[39m\u001b[38;5;241m.\u001b[39mshared_strings \u001b[38;5;241m=\u001b[39m \u001b[43mread_string_table\u001b[49m\u001b[43m(\u001b[49m\u001b[43msrc\u001b[49m\u001b[43m)\u001b[49m\n",
      "File \u001b[0;32m~/opt/anaconda3/envs/dsc80/lib/python3.8/site-packages/openpyxl/reader/strings.py:15\u001b[0m, in \u001b[0;36mread_string_table\u001b[0;34m(xml_source)\u001b[0m\n\u001b[1;32m     12\u001b[0m strings \u001b[38;5;241m=\u001b[39m []\n\u001b[1;32m     13\u001b[0m STRING_TAG \u001b[38;5;241m=\u001b[39m \u001b[38;5;124m'\u001b[39m\u001b[38;5;124m{\u001b[39m\u001b[38;5;132;01m%s\u001b[39;00m\u001b[38;5;124m}si\u001b[39m\u001b[38;5;124m'\u001b[39m \u001b[38;5;241m%\u001b[39m SHEET_MAIN_NS\n\u001b[0;32m---> 15\u001b[0m \u001b[38;5;28;01mfor\u001b[39;00m _, node \u001b[38;5;129;01min\u001b[39;00m iterparse(xml_source):\n\u001b[1;32m     16\u001b[0m     \u001b[38;5;28;01mif\u001b[39;00m node\u001b[38;5;241m.\u001b[39mtag \u001b[38;5;241m==\u001b[39m STRING_TAG:\n\u001b[1;32m     17\u001b[0m         text \u001b[38;5;241m=\u001b[39m Text\u001b[38;5;241m.\u001b[39mfrom_tree(node)\u001b[38;5;241m.\u001b[39mcontent\n",
      "File \u001b[0;32m~/opt/anaconda3/envs/dsc80/lib/python3.8/xml/etree/ElementTree.py:1232\u001b[0m, in \u001b[0;36miterparse.<locals>.iterator\u001b[0;34m()\u001b[0m\n\u001b[1;32m   1230\u001b[0m     \u001b[38;5;28;01mif\u001b[39;00m \u001b[38;5;129;01mnot\u001b[39;00m data:\n\u001b[1;32m   1231\u001b[0m         \u001b[38;5;28;01mbreak\u001b[39;00m\n\u001b[0;32m-> 1232\u001b[0m     \u001b[43mpullparser\u001b[49m\u001b[38;5;241;43m.\u001b[39;49m\u001b[43mfeed\u001b[49m\u001b[43m(\u001b[49m\u001b[43mdata\u001b[49m\u001b[43m)\u001b[49m\n\u001b[1;32m   1233\u001b[0m root \u001b[38;5;241m=\u001b[39m pullparser\u001b[38;5;241m.\u001b[39m_close_and_return_root()\n\u001b[1;32m   1234\u001b[0m \u001b[38;5;28;01myield from\u001b[39;00m pullparser\u001b[38;5;241m.\u001b[39mread_events()\n",
      "File \u001b[0;32m~/opt/anaconda3/envs/dsc80/lib/python3.8/xml/etree/ElementTree.py:1274\u001b[0m, in \u001b[0;36mXMLPullParser.feed\u001b[0;34m(self, data)\u001b[0m\n\u001b[1;32m   1272\u001b[0m \u001b[38;5;28;01mif\u001b[39;00m data:\n\u001b[1;32m   1273\u001b[0m     \u001b[38;5;28;01mtry\u001b[39;00m:\n\u001b[0;32m-> 1274\u001b[0m         \u001b[38;5;28;43mself\u001b[39;49m\u001b[38;5;241;43m.\u001b[39;49m\u001b[43m_parser\u001b[49m\u001b[38;5;241;43m.\u001b[39;49m\u001b[43mfeed\u001b[49m\u001b[43m(\u001b[49m\u001b[43mdata\u001b[49m\u001b[43m)\u001b[49m\n\u001b[1;32m   1275\u001b[0m     \u001b[38;5;28;01mexcept\u001b[39;00m \u001b[38;5;167;01mSyntaxError\u001b[39;00m \u001b[38;5;28;01mas\u001b[39;00m exc:\n\u001b[1;32m   1276\u001b[0m         \u001b[38;5;28mself\u001b[39m\u001b[38;5;241m.\u001b[39m_events_queue\u001b[38;5;241m.\u001b[39mappend(exc)\n",
      "File \u001b[0;32m~/opt/anaconda3/envs/dsc80/lib/python3.8/xml/etree/ElementTree.py:1693\u001b[0m, in \u001b[0;36mXMLParser.feed\u001b[0;34m(self, data)\u001b[0m\n\u001b[1;32m   1691\u001b[0m \u001b[38;5;124;03m\"\"\"Feed encoded data to parser.\"\"\"\u001b[39;00m\n\u001b[1;32m   1692\u001b[0m \u001b[38;5;28;01mtry\u001b[39;00m:\n\u001b[0;32m-> 1693\u001b[0m     \u001b[38;5;28;43mself\u001b[39;49m\u001b[38;5;241;43m.\u001b[39;49m\u001b[43mparser\u001b[49m\u001b[38;5;241;43m.\u001b[39;49m\u001b[43mParse\u001b[49m\u001b[43m(\u001b[49m\u001b[43mdata\u001b[49m\u001b[43m,\u001b[49m\u001b[43m \u001b[49m\u001b[38;5;241;43m0\u001b[39;49m\u001b[43m)\u001b[49m\n\u001b[1;32m   1694\u001b[0m \u001b[38;5;28;01mexcept\u001b[39;00m \u001b[38;5;28mself\u001b[39m\u001b[38;5;241m.\u001b[39m_error \u001b[38;5;28;01mas\u001b[39;00m v:\n\u001b[1;32m   1695\u001b[0m     \u001b[38;5;28mself\u001b[39m\u001b[38;5;241m.\u001b[39m_raiseerror(v)\n",
      "File \u001b[0;32m/opt/concourse/worker/volumes/live/2de73662-ed55-49c1-4aa8-95e2fbde70a0/volume/python-split_1634043568858/work/Modules/pyexpat.c:461\u001b[0m, in \u001b[0;36mEndElement\u001b[0;34m()\u001b[0m\n",
      "File \u001b[0;32m~/opt/anaconda3/envs/dsc80/lib/python3.8/xml/etree/ElementTree.py:1562\u001b[0m, in \u001b[0;36mXMLParser._setevents.<locals>.handler\u001b[0;34m(tag, event, append, end)\u001b[0m\n\u001b[1;32m   1560\u001b[0m     parser\u001b[38;5;241m.\u001b[39mStartElementHandler \u001b[38;5;241m=\u001b[39m handler\n\u001b[1;32m   1561\u001b[0m \u001b[38;5;28;01melif\u001b[39;00m event_name \u001b[38;5;241m==\u001b[39m \u001b[38;5;124m\"\u001b[39m\u001b[38;5;124mend\u001b[39m\u001b[38;5;124m\"\u001b[39m:\n\u001b[0;32m-> 1562\u001b[0m     \u001b[38;5;28;01mdef\u001b[39;00m \u001b[38;5;21mhandler\u001b[39m(tag, event\u001b[38;5;241m=\u001b[39mevent_name, append\u001b[38;5;241m=\u001b[39mappend,\n\u001b[1;32m   1563\u001b[0m                 end\u001b[38;5;241m=\u001b[39m\u001b[38;5;28mself\u001b[39m\u001b[38;5;241m.\u001b[39m_end):\n\u001b[1;32m   1564\u001b[0m         append((event, end(tag)))\n\u001b[1;32m   1565\u001b[0m     parser\u001b[38;5;241m.\u001b[39mEndElementHandler \u001b[38;5;241m=\u001b[39m handler\n",
      "\u001b[0;31mKeyboardInterrupt\u001b[0m: "
     ]
    }
   ],
   "source": [
    "tweet = pd.read_excel(os.path.join('Twitter+data+in+sheets.xlsx'), 'Tweet')\n",
    "loca = pd.read_excel(os.path.join('Twitter+data+in+sheets.xlsx'), 'Location')\n",
    "user = pd.read_excel(os.path.join('Twitter+data+in+sheets.xlsx'), 'User')\n",
    "\n",
    "\n"
   ]
  },
  {
   "cell_type": "markdown",
   "id": "cf031e13",
   "metadata": {},
   "source": [
    "data processing"
   ]
  },
  {
   "cell_type": "code",
   "execution_count": null,
   "id": "ef45131d",
   "metadata": {},
   "outputs": [],
   "source": [
    "tweet = tweet.rename(str.strip,axis = 1)\n",
    "loca = loca.rename(str.strip,axis = 1)\n",
    "user = user.rename(str.strip,axis = 1)\n",
    "merged = tweet.merge(user, left_on = 'UserID', right_on = 'UserID', how = 'left').merge(loca, left_on = 'LocationID',right_on = 'LocationID')\n",
    "eng = merged[merged['Lang'] == 'en']\n",
    "eng['length'] = eng['text'].str.len()\n",
    "warnings.filterwarnings('ignore')\n",
    "notloc = eng.drop(columns = ['Country','State','StateCode','City','LocationID']).dropna()\n",
    "eng.head()"
   ]
  },
  {
   "cell_type": "code",
   "execution_count": null,
   "id": "e90117a6",
   "metadata": {},
   "outputs": [],
   "source": [
    "notloc['time inteval'] = notloc[\"Hour\"].apply(\n",
    "    lambda x: \"Early morning\" if (x >=6 and x < 9) \n",
    "    else \"Late morning\" if (x >= 9 and x < 12) \n",
    "    else \"Noon\" if (x >= 12 and x < 15) \n",
    "    else \"Afternoon\" if (x >= 15 and x < 18) \n",
    "    else \"Evening\" if (x >= 18 and x < 21) \n",
    "    else \"Early night\" if (x >= 21 and x < 24)\n",
    "    else 'Late night')\n",
    "\n"
   ]
  },
  {
   "cell_type": "code",
   "execution_count": null,
   "id": "b7c95e8f",
   "metadata": {},
   "outputs": [],
   "source": [
    "notloc['Reach'] = notloc['Reach'].apply(lambda x: 1 if x==0 else x)"
   ]
  },
  {
   "cell_type": "code",
   "execution_count": null,
   "id": "e024e189",
   "metadata": {},
   "outputs": [],
   "source": []
  },
  {
   "cell_type": "markdown",
   "id": "5438fdd2",
   "metadata": {},
   "source": [
    "### Since a lot of us are Econ students, let's use our tool——Stata!!!"
   ]
  },
  {
   "cell_type": "code",
   "execution_count": null,
   "id": "7babe8aa",
   "metadata": {},
   "outputs": [],
   "source": [
    "with pd.ExcelWriter(os.path.join('Stata reg.xlsx'), engine=\"openpyxl\", mode=\"a\", if_sheet_exists=\"replace\") as writer:\n",
    "    s = notloc[['Weekday',\n",
    "        'IsReshare','Reach','RetweetCount','Likes','Klout','Sentiment',\n",
    "        'Gender','time inteval','length']]\n",
    "    s.to_excel(writer, 'sheet1', index = False, header = True)\n"
   ]
  },
  {
   "cell_type": "code",
   "execution_count": null,
   "id": "f30101b5",
   "metadata": {},
   "outputs": [],
   "source": [
    "#notloc[notloc['Gender'] == 'Unknown']"
   ]
  },
  {
   "cell_type": "code",
   "execution_count": null,
   "id": "5a4911c1",
   "metadata": {},
   "outputs": [],
   "source": [
    "stata = pd.read_stata('stata_out.dta')\n",
    "#stata['root_reach'] = stata['Reach'].apply(lambda x:x**(3/4))\n",
    "counted = stata['timeinteval'].value_counts()\n",
    "stata['time_weighted_count'] = stata['timeinteval'].apply(lambda x:1/counted[x])\n",
    "stata.head()\n"
   ]
  },
  {
   "cell_type": "code",
   "execution_count": null,
   "id": "0c2205c7",
   "metadata": {},
   "outputs": [],
   "source": [
    "\n"
   ]
  },
  {
   "cell_type": "code",
   "execution_count": null,
   "id": "77475912",
   "metadata": {},
   "outputs": [],
   "source": [
    "brush = alt.selection(type='interval')\n",
    "stata_s = stata.sample(2000)\n",
    "points = alt.Chart(stata_s).mark_point().encode(\n",
    "    x='length:Q',\n",
    "    y='log_reach:Q',\n",
    "    color=alt.condition(brush, 'timeinteval:N', alt.value('lightgray'))\n",
    ").add_selection(\n",
    "    brush\n",
    ").properties(\n",
    "    width=650,\n",
    "    height=560\n",
    ")\n",
    "\n",
    "bars = alt.Chart(stata_s).mark_bar().encode(\n",
    "    y='timeinteval:N',\n",
    "    color='timeinteval:N',\n",
    "    x='sum(time_weighted_count):Q'\n",
    ").transform_filter(\n",
    "    brush\n",
    ")\n",
    "\n",
    "points & bars\n"
   ]
  },
  {
   "cell_type": "markdown",
   "id": "9601458a",
   "metadata": {},
   "source": [
    "### Frisch-Waugh Regress"
   ]
  },
  {
   "cell_type": "code",
   "execution_count": null,
   "id": "bdd7db0c",
   "metadata": {},
   "outputs": [],
   "source": [
    "stata"
   ]
  },
  {
   "cell_type": "code",
   "execution_count": 38,
   "id": "bd8652ea",
   "metadata": {},
   "outputs": [
    {
     "name": "stdout",
     "output_type": "stream",
     "text": [
      "[0.33538509]\n",
      "-3.5005476063584735e-16\n",
      "[0.42431259]\n",
      "1.0655422088210259e-16\n",
      "[0.42209329]\n",
      "3.491961444243836e-18\n"
     ]
    },
    {
     "data": {
      "text/html": [
       "<div>\n",
       "<style scoped>\n",
       "    .dataframe tbody tr th:only-of-type {\n",
       "        vertical-align: middle;\n",
       "    }\n",
       "\n",
       "    .dataframe tbody tr th {\n",
       "        vertical-align: top;\n",
       "    }\n",
       "\n",
       "    .dataframe thead th {\n",
       "        text-align: right;\n",
       "    }\n",
       "</style>\n",
       "<table border=\"1\" class=\"dataframe\">\n",
       "  <thead>\n",
       "    <tr style=\"text-align: right;\">\n",
       "      <th></th>\n",
       "      <th>re</th>\n",
       "      <th>re1</th>\n",
       "      <th>category</th>\n",
       "    </tr>\n",
       "  </thead>\n",
       "  <tbody>\n",
       "    <tr>\n",
       "      <th>0</th>\n",
       "      <td>-0.010139</td>\n",
       "      <td>2.259716</td>\n",
       "      <td>e_m</td>\n",
       "    </tr>\n",
       "    <tr>\n",
       "      <th>1</th>\n",
       "      <td>0.000857</td>\n",
       "      <td>-0.219732</td>\n",
       "      <td>e_m</td>\n",
       "    </tr>\n",
       "    <tr>\n",
       "      <th>2</th>\n",
       "      <td>-0.037015</td>\n",
       "      <td>1.801095</td>\n",
       "      <td>e_m</td>\n",
       "    </tr>\n",
       "    <tr>\n",
       "      <th>3</th>\n",
       "      <td>-0.009555</td>\n",
       "      <td>2.013650</td>\n",
       "      <td>e_m</td>\n",
       "    </tr>\n",
       "    <tr>\n",
       "      <th>4</th>\n",
       "      <td>0.640897</td>\n",
       "      <td>-0.277535</td>\n",
       "      <td>e_m</td>\n",
       "    </tr>\n",
       "    <tr>\n",
       "      <th>...</th>\n",
       "      <td>...</td>\n",
       "      <td>...</td>\n",
       "      <td>...</td>\n",
       "    </tr>\n",
       "    <tr>\n",
       "      <th>93558</th>\n",
       "      <td>-0.012017</td>\n",
       "      <td>1.334007</td>\n",
       "      <td>N</td>\n",
       "    </tr>\n",
       "    <tr>\n",
       "      <th>93559</th>\n",
       "      <td>-0.012064</td>\n",
       "      <td>1.409764</td>\n",
       "      <td>N</td>\n",
       "    </tr>\n",
       "    <tr>\n",
       "      <th>93560</th>\n",
       "      <td>-0.003375</td>\n",
       "      <td>1.341372</td>\n",
       "      <td>N</td>\n",
       "    </tr>\n",
       "    <tr>\n",
       "      <th>93561</th>\n",
       "      <td>0.003994</td>\n",
       "      <td>0.372015</td>\n",
       "      <td>N</td>\n",
       "    </tr>\n",
       "    <tr>\n",
       "      <th>93562</th>\n",
       "      <td>-0.340312</td>\n",
       "      <td>0.267223</td>\n",
       "      <td>N</td>\n",
       "    </tr>\n",
       "  </tbody>\n",
       "</table>\n",
       "<p>280689 rows × 3 columns</p>\n",
       "</div>"
      ],
      "text/plain": [
       "             re       re1 category\n",
       "0     -0.010139  2.259716      e_m\n",
       "1      0.000857 -0.219732      e_m\n",
       "2     -0.037015  1.801095      e_m\n",
       "3     -0.009555  2.013650      e_m\n",
       "4      0.640897 -0.277535      e_m\n",
       "...         ...       ...      ...\n",
       "93558 -0.012017  1.334007        N\n",
       "93559 -0.012064  1.409764        N\n",
       "93560 -0.003375  1.341372        N\n",
       "93561  0.003994  0.372015        N\n",
       "93562 -0.340312  0.267223        N\n",
       "\n",
       "[280689 rows x 3 columns]"
      ]
     },
     "execution_count": 38,
     "metadata": {},
     "output_type": "execute_result"
    }
   ],
   "source": [
    "#Early_morning----log_reach\n",
    "#ignore Early_night, Weekdaydummy7, Genderdummy4\n",
    "\n",
    "plot_df = pd.DataFrame()\n",
    "lr = LinearRegression()\n",
    "lr1 = LinearRegression()\n",
    "lr2 = LinearRegression()\n",
    "X = stata[['length','Sentiment', 'Weekdaydummy1','Weekdaydummy2',\n",
    "                      'Weekdaydummy3','Weekdaydummy4','Weekdaydummy5','Weekdaydummy6',\n",
    "                      'Genderdummy1','Genderdummy2','Genderdummy3',\n",
    "           'Late_night', 'Evening' ,'Late_morning','Afternoon','Noon']]\n",
    "lr.fit(X=X, y=stata['Early_morning'])\n",
    "re = lr.predict(X) - stata['Early_morning']\n",
    "\n",
    "lr1.fit(X=X, y = stata['log_reach'])\n",
    "re1 = lr1.predict(X) - stata['log_reach']\n",
    "\n",
    "lr2.fit(X=pd.DataFrame(re), y=re1)\n",
    "print(lr2.coef_)\n",
    "print(lr2.intercept_)\n",
    "plot_df['re'] = re\n",
    "plot_df['re1'] = re1\n",
    "plot_df['category'] = 'e_m'\n",
    "\n",
    "\n",
    "#Late_morning----log_reach\n",
    "#ignore Early_night, Weekdaydummy7, Genderdummy4\n",
    "\n",
    "plot_df1 = pd.DataFrame()\n",
    "lr = LinearRegression()\n",
    "lr1 = LinearRegression()\n",
    "lr2 = LinearRegression()\n",
    "X = stata[['length','Sentiment', 'Weekdaydummy1','Weekdaydummy2',\n",
    "                      'Weekdaydummy3','Weekdaydummy4','Weekdaydummy5','Weekdaydummy6',\n",
    "                      'Genderdummy1','Genderdummy2','Genderdummy3',\n",
    "           'Late_night', 'Evening' ,'Afternoon','Noon','Early_morning']]\n",
    "lr.fit(X=X, y=stata['Late_morning'])\n",
    "re = lr.predict(X) - stata['Late_morning']\n",
    "\n",
    "lr1.fit(X=X, y = stata['log_reach'])\n",
    "re1 = lr1.predict(X) - stata['log_reach']\n",
    "\n",
    "lr2.fit(X=pd.DataFrame(re), y=re1)\n",
    "print(lr2.coef_)\n",
    "print(lr2.intercept_)\n",
    "plot_df1['re'] = re\n",
    "plot_df1['re1'] = re1\n",
    "plot_df1['category'] = 'l_m'\n",
    "\n",
    "#Noon----log_reach\n",
    "#ignore Early_night, Weekdaydummy7, Genderdummy4\n",
    "\n",
    "plot_df2 = pd.DataFrame()\n",
    "lr = LinearRegression()\n",
    "lr1 = LinearRegression()\n",
    "lr2 = LinearRegression()\n",
    "X = stata[['length','Sentiment', 'Weekdaydummy1','Weekdaydummy2',\n",
    "                      'Weekdaydummy3','Weekdaydummy4','Weekdaydummy5','Weekdaydummy6',\n",
    "                      'Genderdummy1','Genderdummy2','Genderdummy3',\n",
    "           'Late_night', 'Evening' ,'Afternoon','Early_morning','Late_morning']]\n",
    "lr.fit(X=X, y=stata['Noon'])\n",
    "re = lr.predict(X) - stata['Noon']\n",
    "\n",
    "lr1.fit(X=X, y = stata['log_reach'])\n",
    "re1 = lr1.predict(X) - stata['log_reach']\n",
    "\n",
    "lr2.fit(X=pd.DataFrame(re), y=re1)\n",
    "print(lr2.coef_)\n",
    "print(lr2.intercept_)\n",
    "plot_df2['re'] = re\n",
    "plot_df2['re1'] = re1\n",
    "plot_df2['category'] = 'N'\n",
    "\n",
    "\n",
    "\n",
    "p = pd.concat([plot_df,plot_df1,plot_df2])\n",
    "p\n",
    "#sns.lmplot(data=plot_df, x='re', y='re1');\n"
   ]
  },
  {
   "cell_type": "code",
   "execution_count": null,
   "id": "10f4ff4f",
   "metadata": {},
   "outputs": [],
   "source": [
    "#Early_morning----log_reach\n",
    "#ignore Early_night, Weekdaydummy7, Genderdummy4\n",
    "def inter(vari = 'Early_morning'):\n",
    "    lis = ['length','Sentiment', 'Weekdaydummy1','Weekdaydummy2',\n",
    "            'Weekdaydummy3','Weekdaydummy4','Weekdaydummy5','Weekdaydummy6',\n",
    "             'Genderdummy1','Genderdummy2','Genderdummy3',\n",
    "               'Late_night', 'Evening' ,'Late_morning','Afternoon','Noon','Early_morning']\n",
    "    lis.remove(vari)\n",
    "    plot_df = pd.DataFrame()\n",
    "    lr = LinearRegression()\n",
    "    lr1 = LinearRegression()\n",
    "    lr2 = LinearRegression()\n",
    "    X = stata[lis]\n",
    "    lr.fit(X=X, y=stata[vari])\n",
    "    re = lr.predict(X) - stata[vari]\n",
    "\n",
    "    lr1.fit(X=X, y = stata['log_reach'])\n",
    "    re1 = lr1.predict(X) - stata['log_reach']\n",
    "\n",
    "    lr2.fit(X=pd.DataFrame(re), y=re1)\n",
    "    plot_df['re'] = re\n",
    "    plot_df['re1'] = re1\n",
    "    sns.lmplot('re', 're1', data=plot_df)\n",
    "    return 'coefficient = '+ str(lr2.coef_)\n",
    "    #plot_df['category'] = 'e_m'\n"
   ]
  },
  {
   "cell_type": "code",
   "execution_count": null,
   "id": "4aad76f5",
   "metadata": {},
   "outputs": [],
   "source": [
    "warnings.filterwarnings('ignore')\n",
    "interact(inter, x = ['Late_night', 'Evening' ,'Late_morning','Afternoon','Noon','Early_morning']);\n",
    "#['Late_night', 'Evening' ,'Late_morning','Afternoon','Noon','Early_morning']\n",
    "warnings.filterwarnings('default')"
   ]
  },
  {
   "cell_type": "code",
   "execution_count": null,
   "id": "ca2fe537",
   "metadata": {},
   "outputs": [],
   "source": [
    "tips"
   ]
  },
  {
   "cell_type": "code",
   "execution_count": 57,
   "id": "2bb5fe82",
   "metadata": {},
   "outputs": [
    {
     "name": "stderr",
     "output_type": "stream",
     "text": [
      "/Users/pro/opt/anaconda3/envs/dsc80/lib/python3.8/site-packages/seaborn/_decorators.py:36: FutureWarning: Pass the following variables as keyword args: x, y. From version 0.12, the only valid positional argument will be `data`, and passing other arguments without an explicit keyword will result in an error or misinterpretation.\n",
      "  warnings.warn(\n",
      "/Users/pro/opt/anaconda3/envs/dsc80/lib/python3.8/site-packages/seaborn/regression.py:592: UserWarning: sharey is deprecated from the `lmplot` function signature. Please update your code to pass it using `facet_kws`.\n",
      "  warnings.warn(msg, UserWarning)\n"
     ]
    },
    {
     "data": {
      "image/png": "[encoded data removed]",
      "text/plain": [
       "<Figure size 360x360 with 1 Axes>"
      ]
     },
     "metadata": {
      "needs_background": "light"
     },
     "output_type": "display_data"
    }
   ],
   "source": [
    "seaborn_grid = sns.lmplot('re', 're1', data=plot_df, sharey = True)\n",
    "\n"
   ]
  },
  {
   "cell_type": "code",
   "execution_count": null,
   "id": "c19fb376",
   "metadata": {},
   "outputs": [],
   "source": [
    "'''\n",
    "rename timedummy1 Afternoon\n",
    "\trename timedummy7 Noon\n",
    "\trename (timedummy2) (Early_morning)\n",
    "\trename (timedummy3) (Early_night)\n",
    "\trename timedummy4 Evening\n",
    "\trename (timedummy5) (Late_morning)\n",
    "\trename (timedummy6) (Late_night)'''"
   ]
  },
  {
   "cell_type": "code",
   "execution_count": null,
   "id": "20d336fa",
   "metadata": {},
   "outputs": [],
   "source": [
    "lr1.fit(X=X, y = stata['log_reach'])\n",
    "re1 = lr1.predict(X) - stata['log_reach']\n",
    "re1"
   ]
  },
  {
   "cell_type": "markdown",
   "id": "686045c1",
   "metadata": {},
   "source": [
    "#### What is Klout?\n",
    "Klout used Bing, Facebook, Foursquare, Google+, Instagram, LinkedIn Twitter, Wikipedia, and YouTube data to create Klout user profiles that were assigned a unique \"Klout Score\". Klout scores ranged from 1 to 100, with higher scores corresponding to a higher ranking of the breadth and strength of one's online social influence. <br>\n",
    "Klout measured influence by using data points from Twitter, such as the following count, follower count, retweets, list memberships, how many spam/dead accounts were following you, how influential the people who retweet you were and unique mentions.\n",
    "#### What is reach?\n",
    "Tweet reach is the number of people who see your tweet."
   ]
  },
  {
   "cell_type": "code",
   "execution_count": null,
   "id": "efd24e6f",
   "metadata": {},
   "outputs": [],
   "source": []
  },
  {
   "cell_type": "code",
   "execution_count": null,
   "id": "ba90e5de",
   "metadata": {},
   "outputs": [],
   "source": [
    "land.detect('AWS Technical Customer Service Associate for http://www.amazon.com/ (Seattle WA) https://us-amazon.icims.com/jobs/382628/aws-technical-customer-service-associate/job')"
   ]
  },
  {
   "cell_type": "code",
   "execution_count": null,
   "id": "2f4ef8bb",
   "metadata": {},
   "outputs": [],
   "source": []
  },
  {
   "cell_type": "code",
   "execution_count": null,
   "id": "3f74ff01",
   "metadata": {},
   "outputs": [],
   "source": []
  }
 ],
 "metadata": {
  "kernelspec": {
   "display_name": "Python 3 (ipykernel)",
   "language": "python",
   "name": "python3"
  },
  "language_info": {
   "codemirror_mode": {
    "name": "ipython",
    "version": 3
   },
   "file_extension": ".py",
   "mimetype": "text/x-python",
   "name": "python",
   "nbconvert_exporter": "python",
   "pygments_lexer": "ipython3",
   "version": "3.8.12"
  }
 },
 "nbformat": 4,
 "nbformat_minor": 5
}
